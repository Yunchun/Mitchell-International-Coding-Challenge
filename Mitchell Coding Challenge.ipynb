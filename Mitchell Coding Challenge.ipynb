{
 "cells": [
  {
   "cell_type": "markdown",
   "metadata": {},
   "source": [
    "## Import Packages"
   ]
  },
  {
   "cell_type": "code",
   "execution_count": 1,
   "metadata": {},
   "outputs": [],
   "source": [
    "import matplotlib.pyplot as plt\n",
    "import numpy as np\n",
    "import os\n",
    "import pandas as pd\n",
    "%matplotlib inline\n",
    "%config InlineBackend.figure_format = 'retina'  # Higher resolution figures\n",
    "from sklearn.preprocessing import OneHotEncoder\n",
    "from sklearn.preprocessing import OrdinalEncoder\n",
    "from sklearn import metrics "
   ]
  },
  {
   "cell_type": "code",
   "execution_count": 2,
   "metadata": {},
   "outputs": [],
   "source": [
    "from sklearn.model_selection import train_test_split\n",
    "from sklearn.pipeline import Pipeline\n",
    "from sklearn.compose import ColumnTransformer\n",
    "from sklearn.preprocessing import FunctionTransformer\n",
    "from sklearn.linear_model import LogisticRegression\n",
    "from sklearn.decomposition import PCA\n",
    "import warnings\n",
    "warnings.filterwarnings(\"ignore\")"
   ]
  },
  {
   "cell_type": "markdown",
   "metadata": {},
   "source": [
    "## Preprocess Dataset"
   ]
  },
  {
   "cell_type": "code",
   "execution_count": 3,
   "metadata": {},
   "outputs": [
    {
     "data": {
      "text/html": [
       "<div>\n",
       "<style scoped>\n",
       "    .dataframe tbody tr th:only-of-type {\n",
       "        vertical-align: middle;\n",
       "    }\n",
       "\n",
       "    .dataframe tbody tr th {\n",
       "        vertical-align: top;\n",
       "    }\n",
       "\n",
       "    .dataframe thead th {\n",
       "        text-align: right;\n",
       "    }\n",
       "</style>\n",
       "<table border=\"1\" class=\"dataframe\">\n",
       "  <thead>\n",
       "    <tr style=\"text-align: right;\">\n",
       "      <th></th>\n",
       "      <th>ClaimNumber</th>\n",
       "      <th>EvalResult</th>\n",
       "      <th>6054</th>\n",
       "      <th>6055</th>\n",
       "      <th>6056</th>\n",
       "      <th>6057</th>\n",
       "      <th>6058</th>\n",
       "      <th>6060</th>\n",
       "      <th>6061</th>\n",
       "      <th>6062</th>\n",
       "      <th>...</th>\n",
       "      <th>7928</th>\n",
       "      <th>7929</th>\n",
       "      <th>7930</th>\n",
       "      <th>7931</th>\n",
       "      <th>8445</th>\n",
       "      <th>8446</th>\n",
       "      <th>8447</th>\n",
       "      <th>8448</th>\n",
       "      <th>8449</th>\n",
       "      <th>8450</th>\n",
       "    </tr>\n",
       "  </thead>\n",
       "  <tbody>\n",
       "    <tr>\n",
       "      <th>0</th>\n",
       "      <td>1</td>\n",
       "      <td>0</td>\n",
       "      <td>0</td>\n",
       "      <td>0</td>\n",
       "      <td>0</td>\n",
       "      <td>0</td>\n",
       "      <td>0</td>\n",
       "      <td>0</td>\n",
       "      <td>0</td>\n",
       "      <td>0</td>\n",
       "      <td>...</td>\n",
       "      <td>0</td>\n",
       "      <td>0</td>\n",
       "      <td>0</td>\n",
       "      <td>0</td>\n",
       "      <td>0</td>\n",
       "      <td>0</td>\n",
       "      <td>0</td>\n",
       "      <td>0</td>\n",
       "      <td>0</td>\n",
       "      <td>0</td>\n",
       "    </tr>\n",
       "    <tr>\n",
       "      <th>1</th>\n",
       "      <td>2</td>\n",
       "      <td>0</td>\n",
       "      <td>0</td>\n",
       "      <td>0</td>\n",
       "      <td>0</td>\n",
       "      <td>0</td>\n",
       "      <td>0</td>\n",
       "      <td>0</td>\n",
       "      <td>0</td>\n",
       "      <td>0</td>\n",
       "      <td>...</td>\n",
       "      <td>0</td>\n",
       "      <td>0</td>\n",
       "      <td>0</td>\n",
       "      <td>0</td>\n",
       "      <td>0</td>\n",
       "      <td>1</td>\n",
       "      <td>1</td>\n",
       "      <td>1</td>\n",
       "      <td>1</td>\n",
       "      <td>0</td>\n",
       "    </tr>\n",
       "    <tr>\n",
       "      <th>2</th>\n",
       "      <td>3</td>\n",
       "      <td>0</td>\n",
       "      <td>0</td>\n",
       "      <td>0</td>\n",
       "      <td>0</td>\n",
       "      <td>0</td>\n",
       "      <td>0</td>\n",
       "      <td>0</td>\n",
       "      <td>0</td>\n",
       "      <td>1</td>\n",
       "      <td>...</td>\n",
       "      <td>0</td>\n",
       "      <td>0</td>\n",
       "      <td>0</td>\n",
       "      <td>0</td>\n",
       "      <td>1</td>\n",
       "      <td>2</td>\n",
       "      <td>2</td>\n",
       "      <td>2</td>\n",
       "      <td>1</td>\n",
       "      <td>0</td>\n",
       "    </tr>\n",
       "    <tr>\n",
       "      <th>3</th>\n",
       "      <td>4</td>\n",
       "      <td>0</td>\n",
       "      <td>0</td>\n",
       "      <td>0</td>\n",
       "      <td>0</td>\n",
       "      <td>0</td>\n",
       "      <td>0</td>\n",
       "      <td>0</td>\n",
       "      <td>0</td>\n",
       "      <td>0</td>\n",
       "      <td>...</td>\n",
       "      <td>0</td>\n",
       "      <td>0</td>\n",
       "      <td>0</td>\n",
       "      <td>0</td>\n",
       "      <td>1</td>\n",
       "      <td>3</td>\n",
       "      <td>2</td>\n",
       "      <td>3</td>\n",
       "      <td>1</td>\n",
       "      <td>0</td>\n",
       "    </tr>\n",
       "    <tr>\n",
       "      <th>4</th>\n",
       "      <td>5</td>\n",
       "      <td>0</td>\n",
       "      <td>0</td>\n",
       "      <td>0</td>\n",
       "      <td>0</td>\n",
       "      <td>0</td>\n",
       "      <td>0</td>\n",
       "      <td>0</td>\n",
       "      <td>0</td>\n",
       "      <td>0</td>\n",
       "      <td>...</td>\n",
       "      <td>0</td>\n",
       "      <td>0</td>\n",
       "      <td>0</td>\n",
       "      <td>0</td>\n",
       "      <td>1</td>\n",
       "      <td>4</td>\n",
       "      <td>2</td>\n",
       "      <td>4</td>\n",
       "      <td>1</td>\n",
       "      <td>0</td>\n",
       "    </tr>\n",
       "  </tbody>\n",
       "</table>\n",
       "<p>5 rows × 59 columns</p>\n",
       "</div>"
      ],
      "text/plain": [
       "   ClaimNumber   EvalResult  6054  6055  6056  6057  6058  6060  6061  6062  \\\n",
       "0            1            0     0     0     0     0     0     0     0     0   \n",
       "1            2            0     0     0     0     0     0     0     0     0   \n",
       "2            3            0     0     0     0     0     0     0     0     1   \n",
       "3            4            0     0     0     0     0     0     0     0     0   \n",
       "4            5            0     0     0     0     0     0     0     0     0   \n",
       "\n",
       "   ...  7928  7929  7930  7931  8445  8446  8447  8448  8449  8450  \n",
       "0  ...     0     0     0     0     0     0     0     0     0     0  \n",
       "1  ...     0     0     0     0     0     1     1     1     1     0  \n",
       "2  ...     0     0     0     0     1     2     2     2     1     0  \n",
       "3  ...     0     0     0     0     1     3     2     3     1     0  \n",
       "4  ...     0     0     0     0     1     4     2     4     1     0  \n",
       "\n",
       "[5 rows x 59 columns]"
      ]
     },
     "execution_count": 3,
     "metadata": {},
     "output_type": "execute_result"
    }
   ],
   "source": [
    "mlcc = pd.read_csv(\"MLCC.csv\")\n",
    "mlcc.head()"
   ]
  },
  {
   "cell_type": "markdown",
   "metadata": {},
   "source": [
    "After I load the dataset and save it into **mlcc**, I re-index the dataframe using the values in **ClaimNumber**. Then, I remove spaces from column names of **mlcc**."
   ]
  },
  {
   "cell_type": "code",
   "execution_count": 4,
   "metadata": {},
   "outputs": [],
   "source": [
    "mlcc = mlcc.set_index('ClaimNumber')\n",
    "mlcc.columns = mlcc.columns.str.strip()"
   ]
  },
  {
   "cell_type": "code",
   "execution_count": 5,
   "metadata": {},
   "outputs": [
    {
     "data": {
      "text/plain": [
       "0    238322\n",
       "1     44742\n",
       "2         1\n",
       "Name: EvalResult, dtype: int64"
      ]
     },
     "execution_count": 5,
     "metadata": {},
     "output_type": "execute_result"
    }
   ],
   "source": [
    "mlcc.EvalResult.value_counts()"
   ]
  },
  {
   "cell_type": "markdown",
   "metadata": {},
   "source": [
    "Since only 0 and 1 are valid values in **EvalResult** and there is only one row with the other value(2) in **EvalResult**, I keep the rows in which **EvalResult** values are either 0 or 1."
   ]
  },
  {
   "cell_type": "code",
   "execution_count": 6,
   "metadata": {},
   "outputs": [],
   "source": [
    "mlcc = mlcc.loc[(mlcc['EvalResult'] == 1) | (mlcc['EvalResult'] == 0)]"
   ]
  },
  {
   "cell_type": "markdown",
   "metadata": {},
   "source": [
    "## Feature Selection/Dimensionality Reduction"
   ]
  },
  {
   "cell_type": "markdown",
   "metadata": {},
   "source": [
    "Here, I find the number of unique values in each ID column and the frequency of value 0 in that specific ID column. Then, I save these results into a dictionary **unique_dict** with the name of that column as key."
   ]
  },
  {
   "cell_type": "code",
   "execution_count": 7,
   "metadata": {},
   "outputs": [],
   "source": [
    "unique_dict = {}\n",
    "for col in mlcc.columns[1:]:\n",
    "    unique_dict[col] = [len(mlcc[col].unique())] \n",
    "    val_counts = mlcc[col].value_counts()\n",
    "    if 0 in val_counts.index:\n",
    "        unique_dict[col].append(val_counts.loc[0])\n",
    "    else:\n",
    "        unique_dict[col].append(0)"
   ]
  },
  {
   "cell_type": "markdown",
   "metadata": {},
   "source": [
    "If most values in a ID column are 0, then results classified differently would be very likely to have same answers for the corresponding question. Therefore, that ID column might not be helpful for classification. Following this logic, I only take the ID columns where the occurrences of 0 are less than the sample size of the dataset by 20000 or more. I choose this threshold because there are approximately 44000 results classified as 1. If at least half of results classified as 1 have different answers for that question from those classified as 0, then that ID column could be helpful for classification."
   ]
  },
  {
   "cell_type": "code",
   "execution_count": 8,
   "metadata": {},
   "outputs": [
    {
     "data": {
      "text/html": [
       "<div>\n",
       "<style scoped>\n",
       "    .dataframe tbody tr th:only-of-type {\n",
       "        vertical-align: middle;\n",
       "    }\n",
       "\n",
       "    .dataframe tbody tr th {\n",
       "        vertical-align: top;\n",
       "    }\n",
       "\n",
       "    .dataframe thead th {\n",
       "        text-align: right;\n",
       "    }\n",
       "</style>\n",
       "<table border=\"1\" class=\"dataframe\">\n",
       "  <thead>\n",
       "    <tr style=\"text-align: right;\">\n",
       "      <th></th>\n",
       "      <th>UniqueValNum</th>\n",
       "      <th>Counts0</th>\n",
       "    </tr>\n",
       "  </thead>\n",
       "  <tbody>\n",
       "    <tr>\n",
       "      <th>6062</th>\n",
       "      <td>9</td>\n",
       "      <td>248148</td>\n",
       "    </tr>\n",
       "    <tr>\n",
       "      <th>6064</th>\n",
       "      <td>6</td>\n",
       "      <td>259433</td>\n",
       "    </tr>\n",
       "    <tr>\n",
       "      <th>6065</th>\n",
       "      <td>4</td>\n",
       "      <td>8378</td>\n",
       "    </tr>\n",
       "    <tr>\n",
       "      <th>6085</th>\n",
       "      <td>6</td>\n",
       "      <td>243844</td>\n",
       "    </tr>\n",
       "    <tr>\n",
       "      <th>7778</th>\n",
       "      <td>7</td>\n",
       "      <td>75600</td>\n",
       "    </tr>\n",
       "    <tr>\n",
       "      <th>7779</th>\n",
       "      <td>5</td>\n",
       "      <td>164544</td>\n",
       "    </tr>\n",
       "    <tr>\n",
       "      <th>7781</th>\n",
       "      <td>6</td>\n",
       "      <td>106861</td>\n",
       "    </tr>\n",
       "    <tr>\n",
       "      <th>7782</th>\n",
       "      <td>7</td>\n",
       "      <td>55131</td>\n",
       "    </tr>\n",
       "    <tr>\n",
       "      <th>7783</th>\n",
       "      <td>4</td>\n",
       "      <td>255274</td>\n",
       "    </tr>\n",
       "    <tr>\n",
       "      <th>7786</th>\n",
       "      <td>3</td>\n",
       "      <td>8715</td>\n",
       "    </tr>\n",
       "    <tr>\n",
       "      <th>7927</th>\n",
       "      <td>8</td>\n",
       "      <td>248664</td>\n",
       "    </tr>\n",
       "    <tr>\n",
       "      <th>8445</th>\n",
       "      <td>5</td>\n",
       "      <td>171145</td>\n",
       "    </tr>\n",
       "    <tr>\n",
       "      <th>8446</th>\n",
       "      <td>53</td>\n",
       "      <td>10570</td>\n",
       "    </tr>\n",
       "    <tr>\n",
       "      <th>8447</th>\n",
       "      <td>4</td>\n",
       "      <td>26558</td>\n",
       "    </tr>\n",
       "    <tr>\n",
       "      <th>8448</th>\n",
       "      <td>43</td>\n",
       "      <td>11007</td>\n",
       "    </tr>\n",
       "    <tr>\n",
       "      <th>8449</th>\n",
       "      <td>4</td>\n",
       "      <td>10120</td>\n",
       "    </tr>\n",
       "  </tbody>\n",
       "</table>\n",
       "</div>"
      ],
      "text/plain": [
       "      UniqueValNum  Counts0\n",
       "6062             9   248148\n",
       "6064             6   259433\n",
       "6065             4     8378\n",
       "6085             6   243844\n",
       "7778             7    75600\n",
       "7779             5   164544\n",
       "7781             6   106861\n",
       "7782             7    55131\n",
       "7783             4   255274\n",
       "7786             3     8715\n",
       "7927             8   248664\n",
       "8445             5   171145\n",
       "8446            53    10570\n",
       "8447             4    26558\n",
       "8448            43    11007\n",
       "8449             4    10120"
      ]
     },
     "execution_count": 8,
     "metadata": {},
     "output_type": "execute_result"
    }
   ],
   "source": [
    "vals = pd.DataFrame(unique_dict, index = ['UniqueValNum', 'Counts0']).T\n",
    "remain_vals = vals.loc[vals['Counts0'] <= mlcc.shape[0] - 20000]\n",
    "remain_vals"
   ]
  },
  {
   "cell_type": "markdown",
   "metadata": {},
   "source": [
    "Some ID columns have a large number of unique values, which indicates that those questions have many different answers. Those diverse answers might reflect unique aspects of answerers and distinguish and help classify them. Therefore, I take the median of the number of unique values in all ID columns I select and create two subsets of ID columns by comparing numbers of unique values with the median."
   ]
  },
  {
   "cell_type": "code",
   "execution_count": 9,
   "metadata": {},
   "outputs": [],
   "source": [
    "norm_cols = remain_vals.loc[remain_vals.UniqueValNum <= remain_vals.UniqueValNum.median()].index"
   ]
  },
  {
   "cell_type": "code",
   "execution_count": 10,
   "metadata": {},
   "outputs": [],
   "source": [
    "cat_cols = remain_vals.loc[remain_vals.UniqueValNum > remain_vals.UniqueValNum.median()].index"
   ]
  },
  {
   "cell_type": "markdown",
   "metadata": {},
   "source": [
    "## Classifer"
   ]
  },
  {
   "cell_type": "markdown",
   "metadata": {},
   "source": [
    "Here, I create a pipeline that transforms ID columns that I select and fits a Logistic Regression model on these transformed columns.\n",
    "\n",
    "For ID columns that have more unique values than the threshold, I one-hot encode their values because diverse answers might be helpful for classification. Since one-hot encoding would generate correlated features, I apply Principal Component Analysis(PCA) to drop those correlated features. For ID columns that have fewer or same number of unique values as the threshold, I keep them unchanged. Then, I drop all other columns in **mlcc**.\n",
    "\n",
    "Since Logistic Regression model is designed for binary classification, I choose it as my model. I set parameters solver = \"saga\" algorithm because it is a large dataset of 283064 rows and \"saga\" is a good choice for optimizing model's performance on large dataset. Since there are a total of 96 unique values in two ID columns in which the number of unique values are larger than the threshold, I set maximum iterations to 100 for the solver \"saga\" to converge."
   ]
  },
  {
   "cell_type": "code",
   "execution_count": 11,
   "metadata": {},
   "outputs": [],
   "source": [
    "cats = Pipeline([\n",
    "    ('ohe', OneHotEncoder(sparse=False, handle_unknown = \"ignore\")), \n",
    "    ('pca', PCA(svd_solver='full'))\n",
    "])\n",
    "\n",
    "ct = ColumnTransformer([('Normal', FunctionTransformer(lambda x: x), norm_cols),\n",
    "                        ('Categ', cats, cat_cols)], remainder = \"drop\")\n",
    "\n",
    "pl = Pipeline([('feats', ct), ('lr', LogisticRegression(solver = 'saga', max_iter = 100))])"
   ]
  },
  {
   "cell_type": "markdown",
   "metadata": {},
   "source": [
    "## Evaluation of Classifier's Performance"
   ]
  },
  {
   "cell_type": "markdown",
   "metadata": {},
   "source": [
    "Classification results in **mlcc** are not balanced. There are 238322 samples classified as 0 and 44742 samples classified as 1. Therefore, the accuracy score is not able to indicate my model's performance of correctly classifying samples whose true label is 1. Hence, I use the recall score and the specificity score as evaluation metrics to check the model's performance on classifying each label.\n",
    "\n",
    "Being fitted on 70% data and predicting 30% data, my model obtains a recall score of 0.84 and a specificity score of 0.98. In other words, 84% of samples labeled as 1 are correctly classified, and 98% of samples labeled as 0 are correctly classified. Overall, accuracy score of 0.959 indicates that my model is able to correctly predict labels of 95.9% samples. "
   ]
  },
  {
   "cell_type": "code",
   "execution_count": 12,
   "metadata": {},
   "outputs": [
    {
     "data": {
      "text/plain": [
       "0    238322\n",
       "1     44742\n",
       "Name: EvalResult, dtype: int64"
      ]
     },
     "execution_count": 12,
     "metadata": {},
     "output_type": "execute_result"
    }
   ],
   "source": [
    "mlcc['EvalResult'].value_counts()"
   ]
  },
  {
   "cell_type": "code",
   "execution_count": 20,
   "metadata": {},
   "outputs": [],
   "source": [
    "X = mlcc.loc[:, mlcc.columns != 'EvalResult']\n",
    "Y = mlcc['EvalResult']"
   ]
  },
  {
   "cell_type": "code",
   "execution_count": 21,
   "metadata": {},
   "outputs": [],
   "source": [
    "x_train, x_test, y_train, y_test = train_test_split(X, Y, test_size = 0.3)"
   ]
  },
  {
   "cell_type": "code",
   "execution_count": 22,
   "metadata": {},
   "outputs": [
    {
     "data": {
      "text/plain": [
       "Pipeline(memory=None,\n",
       "     steps=[('feats', ColumnTransformer(n_jobs=None, remainder='drop', sparse_threshold=0.3,\n",
       "         transformer_weights=None,\n",
       "         transformers=[('Normal', FunctionTransformer(accept_sparse=False, check_inverse=True,\n",
       "          func=<function <lambda> at 0x000001C681FB08C8>, inv_kw_args=None,\n",
       "      ...penalty='l2', random_state=None, solver='saga',\n",
       "          tol=0.0001, verbose=0, warm_start=False))])"
      ]
     },
     "execution_count": 22,
     "metadata": {},
     "output_type": "execute_result"
    }
   ],
   "source": [
    "pl.fit(x_train, y_train)"
   ]
  },
  {
   "cell_type": "code",
   "execution_count": 23,
   "metadata": {},
   "outputs": [],
   "source": [
    "preds = pl.predict(x_test)"
   ]
  },
  {
   "cell_type": "code",
   "execution_count": 24,
   "metadata": {},
   "outputs": [
    {
     "data": {
      "text/plain": [
       "0.9592204427696656"
      ]
     },
     "execution_count": 24,
     "metadata": {},
     "output_type": "execute_result"
    }
   ],
   "source": [
    "# proportion of predictions that are right\n",
    "metrics.accuracy_score(y_test, preds)"
   ]
  },
  {
   "cell_type": "code",
   "execution_count": 25,
   "metadata": {},
   "outputs": [
    {
     "data": {
      "text/plain": [
       "0.8402860548271752"
      ]
     },
     "execution_count": 25,
     "metadata": {},
     "output_type": "execute_result"
    }
   ],
   "source": [
    "# Recall: proportion of results labeled as 1 that are correctly classified\n",
    "# TP/P\n",
    "metrics.recall_score(y_test, preds)"
   ]
  },
  {
   "cell_type": "code",
   "execution_count": 26,
   "metadata": {},
   "outputs": [
    {
     "data": {
      "text/plain": [
       "0.9815514154638022"
      ]
     },
     "execution_count": 26,
     "metadata": {},
     "output_type": "execute_result"
    }
   ],
   "source": [
    "# Specificity: proportion of results labeled as 0 that are correctly classified\n",
    "# TN/N\n",
    "metrics.recall_score(y_test, preds, pos_label=0)"
   ]
  }
 ],
 "metadata": {
  "kernelspec": {
   "display_name": "Python 3",
   "language": "python",
   "name": "python3"
  },
  "language_info": {
   "codemirror_mode": {
    "name": "ipython",
    "version": 3
   },
   "file_extension": ".py",
   "mimetype": "text/x-python",
   "name": "python",
   "nbconvert_exporter": "python",
   "pygments_lexer": "ipython3",
   "version": "3.7.3"
  }
 },
 "nbformat": 4,
 "nbformat_minor": 2
}
